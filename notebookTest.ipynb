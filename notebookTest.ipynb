{
 "cells": [
  {
   "attachments": {},
   "cell_type": "markdown",
   "metadata": {},
   "source": [
    "# Proyek Analisis Data: Nama dataset\n",
    "- Nama: Bily Hakim Erlangga\n",
    "- Email: bilyhakim@gmail.com\n",
    "- Id Dicoding: "
   ]
  },
  {
   "attachments": {},
   "cell_type": "markdown",
   "metadata": {},
   "source": [
    "## Menentukan Pertanyaan Bisnis"
   ]
  },
  {
   "attachments": {},
   "cell_type": "markdown",
   "metadata": {},
   "source": [
    "- Apakah ada pola tertentu dalam penyewaan sepeda terkait dengan hari libur dan hari kerja?\n",
    "- Bagaimana pengaruh faktor cuaca terhadap tingkat penyewaan sepeda harian?"
   ]
  },
  {
   "attachments": {},
   "cell_type": "markdown",
   "metadata": {},
   "source": [
    "## Menyaipkan semua library yang dibutuhkan"
   ]
  },
  {
   "cell_type": "code",
   "execution_count": 1,
   "metadata": {
    "ExecuteTime": {
     "end_time": "2023-09-21T15:52:48.561187887Z",
     "start_time": "2023-09-21T15:52:48.550650442Z"
    }
   },
   "outputs": [],
   "source": [
    "import pandas as pd\n",
    "import numpy as np\n",
    "import seaborn as sns\n",
    "import matplotlib.pyplot as plt"
   ]
  },
  {
   "attachments": {},
   "cell_type": "markdown",
   "metadata": {},
   "source": [
    "## Data Wrangling"
   ]
  },
  {
   "attachments": {},
   "cell_type": "markdown",
   "metadata": {},
   "source": [
    "### Gathering Data"
   ]
  },
  {
   "cell_type": "code",
   "execution_count": 29,
   "metadata": {
    "ExecuteTime": {
     "end_time": "2023-09-21T15:53:03.141454595Z",
     "start_time": "2023-09-21T15:53:02.990634315Z"
    }
   },
   "outputs": [
    {
     "data": {
      "text/plain": "   instant      dteday  season  yr  mnth  holiday  weekday  workingday  \\\n0        1  2011-01-01       1   0     1        0        6           0   \n1        2  2011-01-02       1   0     1        0        0           0   \n2        3  2011-01-03       1   0     1        0        1           1   \n3        4  2011-01-04       1   0     1        0        2           1   \n4        5  2011-01-05       1   0     1        0        3           1   \n\n   weathersit      temp     atemp       hum  windspeed  casual  registered  \\\n0           2  0.344167  0.363625  0.805833   0.160446     331         654   \n1           2  0.363478  0.353739  0.696087   0.248539     131         670   \n2           1  0.196364  0.189405  0.437273   0.248309     120        1229   \n3           1  0.200000  0.212122  0.590435   0.160296     108        1454   \n4           1  0.226957  0.229270  0.436957   0.186900      82        1518   \n\n    cnt  \n0   985  \n1   801  \n2  1349  \n3  1562  \n4  1600  ",
      "text/html": "<div>\n<style scoped>\n    .dataframe tbody tr th:only-of-type {\n        vertical-align: middle;\n    }\n\n    .dataframe tbody tr th {\n        vertical-align: top;\n    }\n\n    .dataframe thead th {\n        text-align: right;\n    }\n</style>\n<table border=\"1\" class=\"dataframe\">\n  <thead>\n    <tr style=\"text-align: right;\">\n      <th></th>\n      <th>instant</th>\n      <th>dteday</th>\n      <th>season</th>\n      <th>yr</th>\n      <th>mnth</th>\n      <th>holiday</th>\n      <th>weekday</th>\n      <th>workingday</th>\n      <th>weathersit</th>\n      <th>temp</th>\n      <th>atemp</th>\n      <th>hum</th>\n      <th>windspeed</th>\n      <th>casual</th>\n      <th>registered</th>\n      <th>cnt</th>\n    </tr>\n  </thead>\n  <tbody>\n    <tr>\n      <th>0</th>\n      <td>1</td>\n      <td>2011-01-01</td>\n      <td>1</td>\n      <td>0</td>\n      <td>1</td>\n      <td>0</td>\n      <td>6</td>\n      <td>0</td>\n      <td>2</td>\n      <td>0.344167</td>\n      <td>0.363625</td>\n      <td>0.805833</td>\n      <td>0.160446</td>\n      <td>331</td>\n      <td>654</td>\n      <td>985</td>\n    </tr>\n    <tr>\n      <th>1</th>\n      <td>2</td>\n      <td>2011-01-02</td>\n      <td>1</td>\n      <td>0</td>\n      <td>1</td>\n      <td>0</td>\n      <td>0</td>\n      <td>0</td>\n      <td>2</td>\n      <td>0.363478</td>\n      <td>0.353739</td>\n      <td>0.696087</td>\n      <td>0.248539</td>\n      <td>131</td>\n      <td>670</td>\n      <td>801</td>\n    </tr>\n    <tr>\n      <th>2</th>\n      <td>3</td>\n      <td>2011-01-03</td>\n      <td>1</td>\n      <td>0</td>\n      <td>1</td>\n      <td>0</td>\n      <td>1</td>\n      <td>1</td>\n      <td>1</td>\n      <td>0.196364</td>\n      <td>0.189405</td>\n      <td>0.437273</td>\n      <td>0.248309</td>\n      <td>120</td>\n      <td>1229</td>\n      <td>1349</td>\n    </tr>\n    <tr>\n      <th>3</th>\n      <td>4</td>\n      <td>2011-01-04</td>\n      <td>1</td>\n      <td>0</td>\n      <td>1</td>\n      <td>0</td>\n      <td>2</td>\n      <td>1</td>\n      <td>1</td>\n      <td>0.200000</td>\n      <td>0.212122</td>\n      <td>0.590435</td>\n      <td>0.160296</td>\n      <td>108</td>\n      <td>1454</td>\n      <td>1562</td>\n    </tr>\n    <tr>\n      <th>4</th>\n      <td>5</td>\n      <td>2011-01-05</td>\n      <td>1</td>\n      <td>0</td>\n      <td>1</td>\n      <td>0</td>\n      <td>3</td>\n      <td>1</td>\n      <td>1</td>\n      <td>0.226957</td>\n      <td>0.229270</td>\n      <td>0.436957</td>\n      <td>0.186900</td>\n      <td>82</td>\n      <td>1518</td>\n      <td>1600</td>\n    </tr>\n  </tbody>\n</table>\n</div>"
     },
     "execution_count": 29,
     "metadata": {},
     "output_type": "execute_result"
    }
   ],
   "source": [
    "days_df = pd.read_csv('data/day.csv')\n",
    "days_df.head()"
   ]
  },
  {
   "cell_type": "code",
   "execution_count": 30,
   "metadata": {
    "ExecuteTime": {
     "end_time": "2023-09-21T15:53:06.773173266Z",
     "start_time": "2023-09-21T15:53:06.688272324Z"
    }
   },
   "outputs": [
    {
     "data": {
      "text/plain": "   instant      dteday  season  yr  mnth  hr  holiday  weekday  workingday  \\\n0        1  2011-01-01       1   0     1   0        0        6           0   \n1        2  2011-01-01       1   0     1   1        0        6           0   \n2        3  2011-01-01       1   0     1   2        0        6           0   \n3        4  2011-01-01       1   0     1   3        0        6           0   \n4        5  2011-01-01       1   0     1   4        0        6           0   \n\n   weathersit  temp   atemp   hum  windspeed  casual  registered  cnt  \n0           1  0.24  0.2879  0.81        0.0       3          13   16  \n1           1  0.22  0.2727  0.80        0.0       8          32   40  \n2           1  0.22  0.2727  0.80        0.0       5          27   32  \n3           1  0.24  0.2879  0.75        0.0       3          10   13  \n4           1  0.24  0.2879  0.75        0.0       0           1    1  ",
      "text/html": "<div>\n<style scoped>\n    .dataframe tbody tr th:only-of-type {\n        vertical-align: middle;\n    }\n\n    .dataframe tbody tr th {\n        vertical-align: top;\n    }\n\n    .dataframe thead th {\n        text-align: right;\n    }\n</style>\n<table border=\"1\" class=\"dataframe\">\n  <thead>\n    <tr style=\"text-align: right;\">\n      <th></th>\n      <th>instant</th>\n      <th>dteday</th>\n      <th>season</th>\n      <th>yr</th>\n      <th>mnth</th>\n      <th>hr</th>\n      <th>holiday</th>\n      <th>weekday</th>\n      <th>workingday</th>\n      <th>weathersit</th>\n      <th>temp</th>\n      <th>atemp</th>\n      <th>hum</th>\n      <th>windspeed</th>\n      <th>casual</th>\n      <th>registered</th>\n      <th>cnt</th>\n    </tr>\n  </thead>\n  <tbody>\n    <tr>\n      <th>0</th>\n      <td>1</td>\n      <td>2011-01-01</td>\n      <td>1</td>\n      <td>0</td>\n      <td>1</td>\n      <td>0</td>\n      <td>0</td>\n      <td>6</td>\n      <td>0</td>\n      <td>1</td>\n      <td>0.24</td>\n      <td>0.2879</td>\n      <td>0.81</td>\n      <td>0.0</td>\n      <td>3</td>\n      <td>13</td>\n      <td>16</td>\n    </tr>\n    <tr>\n      <th>1</th>\n      <td>2</td>\n      <td>2011-01-01</td>\n      <td>1</td>\n      <td>0</td>\n      <td>1</td>\n      <td>1</td>\n      <td>0</td>\n      <td>6</td>\n      <td>0</td>\n      <td>1</td>\n      <td>0.22</td>\n      <td>0.2727</td>\n      <td>0.80</td>\n      <td>0.0</td>\n      <td>8</td>\n      <td>32</td>\n      <td>40</td>\n    </tr>\n    <tr>\n      <th>2</th>\n      <td>3</td>\n      <td>2011-01-01</td>\n      <td>1</td>\n      <td>0</td>\n      <td>1</td>\n      <td>2</td>\n      <td>0</td>\n      <td>6</td>\n      <td>0</td>\n      <td>1</td>\n      <td>0.22</td>\n      <td>0.2727</td>\n      <td>0.80</td>\n      <td>0.0</td>\n      <td>5</td>\n      <td>27</td>\n      <td>32</td>\n    </tr>\n    <tr>\n      <th>3</th>\n      <td>4</td>\n      <td>2011-01-01</td>\n      <td>1</td>\n      <td>0</td>\n      <td>1</td>\n      <td>3</td>\n      <td>0</td>\n      <td>6</td>\n      <td>0</td>\n      <td>1</td>\n      <td>0.24</td>\n      <td>0.2879</td>\n      <td>0.75</td>\n      <td>0.0</td>\n      <td>3</td>\n      <td>10</td>\n      <td>13</td>\n    </tr>\n    <tr>\n      <th>4</th>\n      <td>5</td>\n      <td>2011-01-01</td>\n      <td>1</td>\n      <td>0</td>\n      <td>1</td>\n      <td>4</td>\n      <td>0</td>\n      <td>6</td>\n      <td>0</td>\n      <td>1</td>\n      <td>0.24</td>\n      <td>0.2879</td>\n      <td>0.75</td>\n      <td>0.0</td>\n      <td>0</td>\n      <td>1</td>\n      <td>1</td>\n    </tr>\n  </tbody>\n</table>\n</div>"
     },
     "execution_count": 30,
     "metadata": {},
     "output_type": "execute_result"
    }
   ],
   "source": [
    "hours_df = pd.read_csv('data/hour.csv')\n",
    "hours_df.head()"
   ]
  },
  {
   "attachments": {},
   "cell_type": "markdown",
   "metadata": {},
   "source": [
    "### Assessing Data"
   ]
  },
  {
   "cell_type": "markdown",
   "metadata": {},
   "source": [
    "#### Assesing Data \"Days\""
   ]
  },
  {
   "cell_type": "code",
   "execution_count": 31,
   "metadata": {
    "ExecuteTime": {
     "end_time": "2023-09-21T15:53:11.239780105Z",
     "start_time": "2023-09-21T15:53:11.075048460Z"
    }
   },
   "outputs": [
    {
     "name": "stdout",
     "output_type": "stream",
     "text": [
      "<class 'pandas.core.frame.DataFrame'>\n",
      "RangeIndex: 731 entries, 0 to 730\n",
      "Data columns (total 16 columns):\n",
      " #   Column      Non-Null Count  Dtype  \n",
      "---  ------      --------------  -----  \n",
      " 0   instant     731 non-null    int64  \n",
      " 1   dteday      731 non-null    object \n",
      " 2   season      731 non-null    int64  \n",
      " 3   yr          731 non-null    int64  \n",
      " 4   mnth        731 non-null    int64  \n",
      " 5   holiday     731 non-null    int64  \n",
      " 6   weekday     731 non-null    int64  \n",
      " 7   workingday  731 non-null    int64  \n",
      " 8   weathersit  731 non-null    int64  \n",
      " 9   temp        731 non-null    float64\n",
      " 10  atemp       731 non-null    float64\n",
      " 11  hum         731 non-null    float64\n",
      " 12  windspeed   731 non-null    float64\n",
      " 13  casual      731 non-null    int64  \n",
      " 14  registered  731 non-null    int64  \n",
      " 15  cnt         731 non-null    int64  \n",
      "dtypes: float64(4), int64(11), object(1)\n",
      "memory usage: 91.5+ KB\n"
     ]
    }
   ],
   "source": [
    "days_df.info()"
   ]
  },
  {
   "cell_type": "code",
   "execution_count": 32,
   "metadata": {
    "ExecuteTime": {
     "end_time": "2023-09-21T15:53:14.484637993Z",
     "start_time": "2023-09-21T15:53:14.258950535Z"
    }
   },
   "outputs": [
    {
     "data": {
      "text/plain": "instant       0\ndteday        0\nseason        0\nyr            0\nmnth          0\nholiday       0\nweekday       0\nworkingday    0\nweathersit    0\ntemp          0\natemp         0\nhum           0\nwindspeed     0\ncasual        0\nregistered    0\ncnt           0\ndtype: int64"
     },
     "execution_count": 32,
     "metadata": {},
     "output_type": "execute_result"
    }
   ],
   "source": [
    "days_df.isna().sum()"
   ]
  },
  {
   "cell_type": "code",
   "execution_count": 33,
   "metadata": {
    "ExecuteTime": {
     "end_time": "2023-09-21T15:53:18.624839133Z",
     "start_time": "2023-09-21T15:53:18.522043537Z"
    }
   },
   "outputs": [
    {
     "data": {
      "text/plain": "          instant      season          yr        mnth     holiday     weekday  \\\ncount  731.000000  731.000000  731.000000  731.000000  731.000000  731.000000   \nmean   366.000000    2.496580    0.500684    6.519836    0.028728    2.997264   \nstd    211.165812    1.110807    0.500342    3.451913    0.167155    2.004787   \nmin      1.000000    1.000000    0.000000    1.000000    0.000000    0.000000   \n25%    183.500000    2.000000    0.000000    4.000000    0.000000    1.000000   \n50%    366.000000    3.000000    1.000000    7.000000    0.000000    3.000000   \n75%    548.500000    3.000000    1.000000   10.000000    0.000000    5.000000   \nmax    731.000000    4.000000    1.000000   12.000000    1.000000    6.000000   \n\n       workingday  weathersit        temp       atemp         hum   windspeed  \\\ncount  731.000000  731.000000  731.000000  731.000000  731.000000  731.000000   \nmean     0.683995    1.395349    0.495385    0.474354    0.627894    0.190486   \nstd      0.465233    0.544894    0.183051    0.162961    0.142429    0.077498   \nmin      0.000000    1.000000    0.059130    0.079070    0.000000    0.022392   \n25%      0.000000    1.000000    0.337083    0.337842    0.520000    0.134950   \n50%      1.000000    1.000000    0.498333    0.486733    0.626667    0.180975   \n75%      1.000000    2.000000    0.655417    0.608602    0.730209    0.233214   \nmax      1.000000    3.000000    0.861667    0.840896    0.972500    0.507463   \n\n            casual   registered          cnt  \ncount   731.000000   731.000000   731.000000  \nmean    848.176471  3656.172367  4504.348837  \nstd     686.622488  1560.256377  1937.211452  \nmin       2.000000    20.000000    22.000000  \n25%     315.500000  2497.000000  3152.000000  \n50%     713.000000  3662.000000  4548.000000  \n75%    1096.000000  4776.500000  5956.000000  \nmax    3410.000000  6946.000000  8714.000000  ",
      "text/html": "<div>\n<style scoped>\n    .dataframe tbody tr th:only-of-type {\n        vertical-align: middle;\n    }\n\n    .dataframe tbody tr th {\n        vertical-align: top;\n    }\n\n    .dataframe thead th {\n        text-align: right;\n    }\n</style>\n<table border=\"1\" class=\"dataframe\">\n  <thead>\n    <tr style=\"text-align: right;\">\n      <th></th>\n      <th>instant</th>\n      <th>season</th>\n      <th>yr</th>\n      <th>mnth</th>\n      <th>holiday</th>\n      <th>weekday</th>\n      <th>workingday</th>\n      <th>weathersit</th>\n      <th>temp</th>\n      <th>atemp</th>\n      <th>hum</th>\n      <th>windspeed</th>\n      <th>casual</th>\n      <th>registered</th>\n      <th>cnt</th>\n    </tr>\n  </thead>\n  <tbody>\n    <tr>\n      <th>count</th>\n      <td>731.000000</td>\n      <td>731.000000</td>\n      <td>731.000000</td>\n      <td>731.000000</td>\n      <td>731.000000</td>\n      <td>731.000000</td>\n      <td>731.000000</td>\n      <td>731.000000</td>\n      <td>731.000000</td>\n      <td>731.000000</td>\n      <td>731.000000</td>\n      <td>731.000000</td>\n      <td>731.000000</td>\n      <td>731.000000</td>\n      <td>731.000000</td>\n    </tr>\n    <tr>\n      <th>mean</th>\n      <td>366.000000</td>\n      <td>2.496580</td>\n      <td>0.500684</td>\n      <td>6.519836</td>\n      <td>0.028728</td>\n      <td>2.997264</td>\n      <td>0.683995</td>\n      <td>1.395349</td>\n      <td>0.495385</td>\n      <td>0.474354</td>\n      <td>0.627894</td>\n      <td>0.190486</td>\n      <td>848.176471</td>\n      <td>3656.172367</td>\n      <td>4504.348837</td>\n    </tr>\n    <tr>\n      <th>std</th>\n      <td>211.165812</td>\n      <td>1.110807</td>\n      <td>0.500342</td>\n      <td>3.451913</td>\n      <td>0.167155</td>\n      <td>2.004787</td>\n      <td>0.465233</td>\n      <td>0.544894</td>\n      <td>0.183051</td>\n      <td>0.162961</td>\n      <td>0.142429</td>\n      <td>0.077498</td>\n      <td>686.622488</td>\n      <td>1560.256377</td>\n      <td>1937.211452</td>\n    </tr>\n    <tr>\n      <th>min</th>\n      <td>1.000000</td>\n      <td>1.000000</td>\n      <td>0.000000</td>\n      <td>1.000000</td>\n      <td>0.000000</td>\n      <td>0.000000</td>\n      <td>0.000000</td>\n      <td>1.000000</td>\n      <td>0.059130</td>\n      <td>0.079070</td>\n      <td>0.000000</td>\n      <td>0.022392</td>\n      <td>2.000000</td>\n      <td>20.000000</td>\n      <td>22.000000</td>\n    </tr>\n    <tr>\n      <th>25%</th>\n      <td>183.500000</td>\n      <td>2.000000</td>\n      <td>0.000000</td>\n      <td>4.000000</td>\n      <td>0.000000</td>\n      <td>1.000000</td>\n      <td>0.000000</td>\n      <td>1.000000</td>\n      <td>0.337083</td>\n      <td>0.337842</td>\n      <td>0.520000</td>\n      <td>0.134950</td>\n      <td>315.500000</td>\n      <td>2497.000000</td>\n      <td>3152.000000</td>\n    </tr>\n    <tr>\n      <th>50%</th>\n      <td>366.000000</td>\n      <td>3.000000</td>\n      <td>1.000000</td>\n      <td>7.000000</td>\n      <td>0.000000</td>\n      <td>3.000000</td>\n      <td>1.000000</td>\n      <td>1.000000</td>\n      <td>0.498333</td>\n      <td>0.486733</td>\n      <td>0.626667</td>\n      <td>0.180975</td>\n      <td>713.000000</td>\n      <td>3662.000000</td>\n      <td>4548.000000</td>\n    </tr>\n    <tr>\n      <th>75%</th>\n      <td>548.500000</td>\n      <td>3.000000</td>\n      <td>1.000000</td>\n      <td>10.000000</td>\n      <td>0.000000</td>\n      <td>5.000000</td>\n      <td>1.000000</td>\n      <td>2.000000</td>\n      <td>0.655417</td>\n      <td>0.608602</td>\n      <td>0.730209</td>\n      <td>0.233214</td>\n      <td>1096.000000</td>\n      <td>4776.500000</td>\n      <td>5956.000000</td>\n    </tr>\n    <tr>\n      <th>max</th>\n      <td>731.000000</td>\n      <td>4.000000</td>\n      <td>1.000000</td>\n      <td>12.000000</td>\n      <td>1.000000</td>\n      <td>6.000000</td>\n      <td>1.000000</td>\n      <td>3.000000</td>\n      <td>0.861667</td>\n      <td>0.840896</td>\n      <td>0.972500</td>\n      <td>0.507463</td>\n      <td>3410.000000</td>\n      <td>6946.000000</td>\n      <td>8714.000000</td>\n    </tr>\n  </tbody>\n</table>\n</div>"
     },
     "execution_count": 33,
     "metadata": {},
     "output_type": "execute_result"
    }
   ],
   "source": [
    "days_df.describe()"
   ]
  },
  {
   "cell_type": "code",
   "execution_count": 34,
   "outputs": [
    {
     "name": "stdout",
     "output_type": "stream",
     "text": [
      "Jumlah Duplikasi:  0\n"
     ]
    }
   ],
   "source": [
    "# Cek Duplikasi\n",
    "print(\"Jumlah Duplikasi: \", days_df.duplicated().sum())"
   ],
   "metadata": {
    "collapsed": false,
    "ExecuteTime": {
     "end_time": "2023-09-21T15:53:22.526057073Z",
     "start_time": "2023-09-21T15:53:22.448192045Z"
    }
   }
  },
  {
   "cell_type": "markdown",
   "metadata": {},
   "source": [
    "#### Assesing Data \"Hours\""
   ]
  },
  {
   "cell_type": "code",
   "execution_count": 35,
   "metadata": {
    "ExecuteTime": {
     "end_time": "2023-09-21T15:53:25.412777684Z",
     "start_time": "2023-09-21T15:53:25.347609111Z"
    }
   },
   "outputs": [
    {
     "name": "stdout",
     "output_type": "stream",
     "text": [
      "<class 'pandas.core.frame.DataFrame'>\n",
      "RangeIndex: 17379 entries, 0 to 17378\n",
      "Data columns (total 17 columns):\n",
      " #   Column      Non-Null Count  Dtype  \n",
      "---  ------      --------------  -----  \n",
      " 0   instant     17379 non-null  int64  \n",
      " 1   dteday      17379 non-null  object \n",
      " 2   season      17379 non-null  int64  \n",
      " 3   yr          17379 non-null  int64  \n",
      " 4   mnth        17379 non-null  int64  \n",
      " 5   hr          17379 non-null  int64  \n",
      " 6   holiday     17379 non-null  int64  \n",
      " 7   weekday     17379 non-null  int64  \n",
      " 8   workingday  17379 non-null  int64  \n",
      " 9   weathersit  17379 non-null  int64  \n",
      " 10  temp        17379 non-null  float64\n",
      " 11  atemp       17379 non-null  float64\n",
      " 12  hum         17379 non-null  float64\n",
      " 13  windspeed   17379 non-null  float64\n",
      " 14  casual      17379 non-null  int64  \n",
      " 15  registered  17379 non-null  int64  \n",
      " 16  cnt         17379 non-null  int64  \n",
      "dtypes: float64(4), int64(12), object(1)\n",
      "memory usage: 2.3+ MB\n"
     ]
    }
   ],
   "source": [
    "hours_df.info()"
   ]
  },
  {
   "cell_type": "code",
   "execution_count": 36,
   "metadata": {
    "ExecuteTime": {
     "end_time": "2023-09-21T15:53:28.805112289Z",
     "start_time": "2023-09-21T15:53:28.709029077Z"
    }
   },
   "outputs": [
    {
     "data": {
      "text/plain": "instant       0\ndteday        0\nseason        0\nyr            0\nmnth          0\nholiday       0\nweekday       0\nworkingday    0\nweathersit    0\ntemp          0\natemp         0\nhum           0\nwindspeed     0\ncasual        0\nregistered    0\ncnt           0\ndtype: int64"
     },
     "execution_count": 36,
     "metadata": {},
     "output_type": "execute_result"
    }
   ],
   "source": [
    "days_df.isna().sum()"
   ]
  },
  {
   "cell_type": "code",
   "execution_count": 37,
   "metadata": {
    "ExecuteTime": {
     "end_time": "2023-09-21T15:53:31.922190721Z",
     "start_time": "2023-09-21T15:53:31.818153084Z"
    }
   },
   "outputs": [
    {
     "data": {
      "text/plain": "          instant        season            yr          mnth            hr  \\\ncount  17379.0000  17379.000000  17379.000000  17379.000000  17379.000000   \nmean    8690.0000      2.501640      0.502561      6.537775     11.546752   \nstd     5017.0295      1.106918      0.500008      3.438776      6.914405   \nmin        1.0000      1.000000      0.000000      1.000000      0.000000   \n25%     4345.5000      2.000000      0.000000      4.000000      6.000000   \n50%     8690.0000      3.000000      1.000000      7.000000     12.000000   \n75%    13034.5000      3.000000      1.000000     10.000000     18.000000   \nmax    17379.0000      4.000000      1.000000     12.000000     23.000000   \n\n            holiday       weekday    workingday    weathersit          temp  \\\ncount  17379.000000  17379.000000  17379.000000  17379.000000  17379.000000   \nmean       0.028770      3.003683      0.682721      1.425283      0.496987   \nstd        0.167165      2.005771      0.465431      0.639357      0.192556   \nmin        0.000000      0.000000      0.000000      1.000000      0.020000   \n25%        0.000000      1.000000      0.000000      1.000000      0.340000   \n50%        0.000000      3.000000      1.000000      1.000000      0.500000   \n75%        0.000000      5.000000      1.000000      2.000000      0.660000   \nmax        1.000000      6.000000      1.000000      4.000000      1.000000   \n\n              atemp           hum     windspeed        casual    registered  \\\ncount  17379.000000  17379.000000  17379.000000  17379.000000  17379.000000   \nmean       0.475775      0.627229      0.190098     35.676218    153.786869   \nstd        0.171850      0.192930      0.122340     49.305030    151.357286   \nmin        0.000000      0.000000      0.000000      0.000000      0.000000   \n25%        0.333300      0.480000      0.104500      4.000000     34.000000   \n50%        0.484800      0.630000      0.194000     17.000000    115.000000   \n75%        0.621200      0.780000      0.253700     48.000000    220.000000   \nmax        1.000000      1.000000      0.850700    367.000000    886.000000   \n\n                cnt  \ncount  17379.000000  \nmean     189.463088  \nstd      181.387599  \nmin        1.000000  \n25%       40.000000  \n50%      142.000000  \n75%      281.000000  \nmax      977.000000  ",
      "text/html": "<div>\n<style scoped>\n    .dataframe tbody tr th:only-of-type {\n        vertical-align: middle;\n    }\n\n    .dataframe tbody tr th {\n        vertical-align: top;\n    }\n\n    .dataframe thead th {\n        text-align: right;\n    }\n</style>\n<table border=\"1\" class=\"dataframe\">\n  <thead>\n    <tr style=\"text-align: right;\">\n      <th></th>\n      <th>instant</th>\n      <th>season</th>\n      <th>yr</th>\n      <th>mnth</th>\n      <th>hr</th>\n      <th>holiday</th>\n      <th>weekday</th>\n      <th>workingday</th>\n      <th>weathersit</th>\n      <th>temp</th>\n      <th>atemp</th>\n      <th>hum</th>\n      <th>windspeed</th>\n      <th>casual</th>\n      <th>registered</th>\n      <th>cnt</th>\n    </tr>\n  </thead>\n  <tbody>\n    <tr>\n      <th>count</th>\n      <td>17379.0000</td>\n      <td>17379.000000</td>\n      <td>17379.000000</td>\n      <td>17379.000000</td>\n      <td>17379.000000</td>\n      <td>17379.000000</td>\n      <td>17379.000000</td>\n      <td>17379.000000</td>\n      <td>17379.000000</td>\n      <td>17379.000000</td>\n      <td>17379.000000</td>\n      <td>17379.000000</td>\n      <td>17379.000000</td>\n      <td>17379.000000</td>\n      <td>17379.000000</td>\n      <td>17379.000000</td>\n    </tr>\n    <tr>\n      <th>mean</th>\n      <td>8690.0000</td>\n      <td>2.501640</td>\n      <td>0.502561</td>\n      <td>6.537775</td>\n      <td>11.546752</td>\n      <td>0.028770</td>\n      <td>3.003683</td>\n      <td>0.682721</td>\n      <td>1.425283</td>\n      <td>0.496987</td>\n      <td>0.475775</td>\n      <td>0.627229</td>\n      <td>0.190098</td>\n      <td>35.676218</td>\n      <td>153.786869</td>\n      <td>189.463088</td>\n    </tr>\n    <tr>\n      <th>std</th>\n      <td>5017.0295</td>\n      <td>1.106918</td>\n      <td>0.500008</td>\n      <td>3.438776</td>\n      <td>6.914405</td>\n      <td>0.167165</td>\n      <td>2.005771</td>\n      <td>0.465431</td>\n      <td>0.639357</td>\n      <td>0.192556</td>\n      <td>0.171850</td>\n      <td>0.192930</td>\n      <td>0.122340</td>\n      <td>49.305030</td>\n      <td>151.357286</td>\n      <td>181.387599</td>\n    </tr>\n    <tr>\n      <th>min</th>\n      <td>1.0000</td>\n      <td>1.000000</td>\n      <td>0.000000</td>\n      <td>1.000000</td>\n      <td>0.000000</td>\n      <td>0.000000</td>\n      <td>0.000000</td>\n      <td>0.000000</td>\n      <td>1.000000</td>\n      <td>0.020000</td>\n      <td>0.000000</td>\n      <td>0.000000</td>\n      <td>0.000000</td>\n      <td>0.000000</td>\n      <td>0.000000</td>\n      <td>1.000000</td>\n    </tr>\n    <tr>\n      <th>25%</th>\n      <td>4345.5000</td>\n      <td>2.000000</td>\n      <td>0.000000</td>\n      <td>4.000000</td>\n      <td>6.000000</td>\n      <td>0.000000</td>\n      <td>1.000000</td>\n      <td>0.000000</td>\n      <td>1.000000</td>\n      <td>0.340000</td>\n      <td>0.333300</td>\n      <td>0.480000</td>\n      <td>0.104500</td>\n      <td>4.000000</td>\n      <td>34.000000</td>\n      <td>40.000000</td>\n    </tr>\n    <tr>\n      <th>50%</th>\n      <td>8690.0000</td>\n      <td>3.000000</td>\n      <td>1.000000</td>\n      <td>7.000000</td>\n      <td>12.000000</td>\n      <td>0.000000</td>\n      <td>3.000000</td>\n      <td>1.000000</td>\n      <td>1.000000</td>\n      <td>0.500000</td>\n      <td>0.484800</td>\n      <td>0.630000</td>\n      <td>0.194000</td>\n      <td>17.000000</td>\n      <td>115.000000</td>\n      <td>142.000000</td>\n    </tr>\n    <tr>\n      <th>75%</th>\n      <td>13034.5000</td>\n      <td>3.000000</td>\n      <td>1.000000</td>\n      <td>10.000000</td>\n      <td>18.000000</td>\n      <td>0.000000</td>\n      <td>5.000000</td>\n      <td>1.000000</td>\n      <td>2.000000</td>\n      <td>0.660000</td>\n      <td>0.621200</td>\n      <td>0.780000</td>\n      <td>0.253700</td>\n      <td>48.000000</td>\n      <td>220.000000</td>\n      <td>281.000000</td>\n    </tr>\n    <tr>\n      <th>max</th>\n      <td>17379.0000</td>\n      <td>4.000000</td>\n      <td>1.000000</td>\n      <td>12.000000</td>\n      <td>23.000000</td>\n      <td>1.000000</td>\n      <td>6.000000</td>\n      <td>1.000000</td>\n      <td>4.000000</td>\n      <td>1.000000</td>\n      <td>1.000000</td>\n      <td>1.000000</td>\n      <td>0.850700</td>\n      <td>367.000000</td>\n      <td>886.000000</td>\n      <td>977.000000</td>\n    </tr>\n  </tbody>\n</table>\n</div>"
     },
     "execution_count": 37,
     "metadata": {},
     "output_type": "execute_result"
    }
   ],
   "source": [
    "hours_df.describe()"
   ]
  },
  {
   "cell_type": "code",
   "execution_count": 38,
   "outputs": [
    {
     "name": "stdout",
     "output_type": "stream",
     "text": [
      "Jumlah Duplikasi:  0\n"
     ]
    }
   ],
   "source": [
    "# Cek Duplikasi\n",
    "print(\"Jumlah Duplikasi: \", hours_df.duplicated().sum())"
   ],
   "metadata": {
    "collapsed": false,
    "ExecuteTime": {
     "end_time": "2023-09-21T15:53:35.193797143Z",
     "start_time": "2023-09-21T15:53:35.137635940Z"
    }
   }
  },
  {
   "attachments": {},
   "cell_type": "markdown",
   "metadata": {},
   "source": [
    "### Cleaning Data"
   ]
  },
  {
   "cell_type": "code",
   "execution_count": 39,
   "metadata": {
    "ExecuteTime": {
     "end_time": "2023-09-21T15:53:38.547891978Z",
     "start_time": "2023-09-21T15:53:38.492294628Z"
    }
   },
   "outputs": [
    {
     "name": "stdout",
     "output_type": "stream",
     "text": [
      "<class 'pandas.core.frame.DataFrame'>\n",
      "RangeIndex: 731 entries, 0 to 730\n",
      "Data columns (total 16 columns):\n",
      " #   Column      Non-Null Count  Dtype         \n",
      "---  ------      --------------  -----         \n",
      " 0   instant     731 non-null    int64         \n",
      " 1   dteday      731 non-null    datetime64[ns]\n",
      " 2   season      731 non-null    int64         \n",
      " 3   yr          731 non-null    int64         \n",
      " 4   mnth        731 non-null    int64         \n",
      " 5   holiday     731 non-null    int64         \n",
      " 6   weekday     731 non-null    int64         \n",
      " 7   workingday  731 non-null    int64         \n",
      " 8   weathersit  731 non-null    int64         \n",
      " 9   temp        731 non-null    float64       \n",
      " 10  atemp       731 non-null    float64       \n",
      " 11  hum         731 non-null    float64       \n",
      " 12  windspeed   731 non-null    float64       \n",
      " 13  casual      731 non-null    int64         \n",
      " 14  registered  731 non-null    int64         \n",
      " 15  cnt         731 non-null    int64         \n",
      "dtypes: datetime64[ns](1), float64(4), int64(11)\n",
      "memory usage: 91.5 KB\n"
     ]
    }
   ],
   "source": [
    "# Karena dteday memiliki tipe data object, maka perlu mengubahnya menjadi tipe data datetime\n",
    "days_df['dteday'] = pd.to_datetime(days_df['dteday'])\n",
    "days_df.info()"
   ]
  },
  {
   "cell_type": "code",
   "execution_count": 40,
   "metadata": {
    "ExecuteTime": {
     "end_time": "2023-09-21T15:53:45.729525507Z",
     "start_time": "2023-09-21T15:53:45.678767120Z"
    }
   },
   "outputs": [
    {
     "name": "stdout",
     "output_type": "stream",
     "text": [
      "<class 'pandas.core.frame.DataFrame'>\n",
      "RangeIndex: 17379 entries, 0 to 17378\n",
      "Data columns (total 17 columns):\n",
      " #   Column      Non-Null Count  Dtype         \n",
      "---  ------      --------------  -----         \n",
      " 0   instant     17379 non-null  int64         \n",
      " 1   dteday      17379 non-null  datetime64[ns]\n",
      " 2   season      17379 non-null  int64         \n",
      " 3   yr          17379 non-null  int64         \n",
      " 4   mnth        17379 non-null  int64         \n",
      " 5   hr          17379 non-null  int64         \n",
      " 6   holiday     17379 non-null  int64         \n",
      " 7   weekday     17379 non-null  int64         \n",
      " 8   workingday  17379 non-null  int64         \n",
      " 9   weathersit  17379 non-null  int64         \n",
      " 10  temp        17379 non-null  float64       \n",
      " 11  atemp       17379 non-null  float64       \n",
      " 12  hum         17379 non-null  float64       \n",
      " 13  windspeed   17379 non-null  float64       \n",
      " 14  casual      17379 non-null  int64         \n",
      " 15  registered  17379 non-null  int64         \n",
      " 16  cnt         17379 non-null  int64         \n",
      "dtypes: datetime64[ns](1), float64(4), int64(12)\n",
      "memory usage: 2.3 MB\n"
     ]
    }
   ],
   "source": [
    "# Karena dteday memiliki tipe data object, maka perlu mengubahnya menjadi tipe data datetime\n",
    "hours_df['dteday'] = pd.to_datetime(hours_df['dteday'])\n",
    "hours_df.info()"
   ]
  },
  {
   "cell_type": "markdown",
   "metadata": {},
   "source": []
  },
  {
   "attachments": {},
   "cell_type": "markdown",
   "metadata": {},
   "source": [
    "## Exploratory Data Analysis (EDA)"
   ]
  },
  {
   "attachments": {},
   "cell_type": "markdown",
   "metadata": {},
   "source": [
    "### Explore Data days_df"
   ]
  },
  {
   "cell_type": "code",
   "execution_count": 41,
   "metadata": {
    "ExecuteTime": {
     "end_time": "2023-09-21T15:53:50.040622352Z",
     "start_time": "2023-09-21T15:53:49.945413241Z"
    }
   },
   "outputs": [
    {
     "name": "stderr",
     "output_type": "stream",
     "text": [
      "/tmp/ipykernel_9975/1815567802.py:1: FutureWarning: Treating datetime data as categorical rather than numeric in `.describe` is deprecated and will be removed in a future version of pandas. Specify `datetime_is_numeric=True` to silence this warning and adopt the future behavior now.\n",
      "  days_df.describe(include='all')\n"
     ]
    },
    {
     "data": {
      "text/plain": "           instant               dteday      season          yr        mnth  \\\ncount   731.000000                  731  731.000000  731.000000  731.000000   \nunique         NaN                  731         NaN         NaN         NaN   \ntop            NaN  2011-01-01 00:00:00         NaN         NaN         NaN   \nfreq           NaN                    1         NaN         NaN         NaN   \nfirst          NaN  2011-01-01 00:00:00         NaN         NaN         NaN   \nlast           NaN  2012-12-31 00:00:00         NaN         NaN         NaN   \nmean    366.000000                  NaN    2.496580    0.500684    6.519836   \nstd     211.165812                  NaN    1.110807    0.500342    3.451913   \nmin       1.000000                  NaN    1.000000    0.000000    1.000000   \n25%     183.500000                  NaN    2.000000    0.000000    4.000000   \n50%     366.000000                  NaN    3.000000    1.000000    7.000000   \n75%     548.500000                  NaN    3.000000    1.000000   10.000000   \nmax     731.000000                  NaN    4.000000    1.000000   12.000000   \n\n           holiday     weekday  workingday  weathersit        temp  \\\ncount   731.000000  731.000000  731.000000  731.000000  731.000000   \nunique         NaN         NaN         NaN         NaN         NaN   \ntop            NaN         NaN         NaN         NaN         NaN   \nfreq           NaN         NaN         NaN         NaN         NaN   \nfirst          NaN         NaN         NaN         NaN         NaN   \nlast           NaN         NaN         NaN         NaN         NaN   \nmean      0.028728    2.997264    0.683995    1.395349    0.495385   \nstd       0.167155    2.004787    0.465233    0.544894    0.183051   \nmin       0.000000    0.000000    0.000000    1.000000    0.059130   \n25%       0.000000    1.000000    0.000000    1.000000    0.337083   \n50%       0.000000    3.000000    1.000000    1.000000    0.498333   \n75%       0.000000    5.000000    1.000000    2.000000    0.655417   \nmax       1.000000    6.000000    1.000000    3.000000    0.861667   \n\n             atemp         hum   windspeed       casual   registered  \\\ncount   731.000000  731.000000  731.000000   731.000000   731.000000   \nunique         NaN         NaN         NaN          NaN          NaN   \ntop            NaN         NaN         NaN          NaN          NaN   \nfreq           NaN         NaN         NaN          NaN          NaN   \nfirst          NaN         NaN         NaN          NaN          NaN   \nlast           NaN         NaN         NaN          NaN          NaN   \nmean      0.474354    0.627894    0.190486   848.176471  3656.172367   \nstd       0.162961    0.142429    0.077498   686.622488  1560.256377   \nmin       0.079070    0.000000    0.022392     2.000000    20.000000   \n25%       0.337842    0.520000    0.134950   315.500000  2497.000000   \n50%       0.486733    0.626667    0.180975   713.000000  3662.000000   \n75%       0.608602    0.730209    0.233214  1096.000000  4776.500000   \nmax       0.840896    0.972500    0.507463  3410.000000  6946.000000   \n\n                cnt  \ncount    731.000000  \nunique          NaN  \ntop             NaN  \nfreq            NaN  \nfirst           NaN  \nlast            NaN  \nmean    4504.348837  \nstd     1937.211452  \nmin       22.000000  \n25%     3152.000000  \n50%     4548.000000  \n75%     5956.000000  \nmax     8714.000000  ",
      "text/html": "<div>\n<style scoped>\n    .dataframe tbody tr th:only-of-type {\n        vertical-align: middle;\n    }\n\n    .dataframe tbody tr th {\n        vertical-align: top;\n    }\n\n    .dataframe thead th {\n        text-align: right;\n    }\n</style>\n<table border=\"1\" class=\"dataframe\">\n  <thead>\n    <tr style=\"text-align: right;\">\n      <th></th>\n      <th>instant</th>\n      <th>dteday</th>\n      <th>season</th>\n      <th>yr</th>\n      <th>mnth</th>\n      <th>holiday</th>\n      <th>weekday</th>\n      <th>workingday</th>\n      <th>weathersit</th>\n      <th>temp</th>\n      <th>atemp</th>\n      <th>hum</th>\n      <th>windspeed</th>\n      <th>casual</th>\n      <th>registered</th>\n      <th>cnt</th>\n    </tr>\n  </thead>\n  <tbody>\n    <tr>\n      <th>count</th>\n      <td>731.000000</td>\n      <td>731</td>\n      <td>731.000000</td>\n      <td>731.000000</td>\n      <td>731.000000</td>\n      <td>731.000000</td>\n      <td>731.000000</td>\n      <td>731.000000</td>\n      <td>731.000000</td>\n      <td>731.000000</td>\n      <td>731.000000</td>\n      <td>731.000000</td>\n      <td>731.000000</td>\n      <td>731.000000</td>\n      <td>731.000000</td>\n      <td>731.000000</td>\n    </tr>\n    <tr>\n      <th>unique</th>\n      <td>NaN</td>\n      <td>731</td>\n      <td>NaN</td>\n      <td>NaN</td>\n      <td>NaN</td>\n      <td>NaN</td>\n      <td>NaN</td>\n      <td>NaN</td>\n      <td>NaN</td>\n      <td>NaN</td>\n      <td>NaN</td>\n      <td>NaN</td>\n      <td>NaN</td>\n      <td>NaN</td>\n      <td>NaN</td>\n      <td>NaN</td>\n    </tr>\n    <tr>\n      <th>top</th>\n      <td>NaN</td>\n      <td>2011-01-01 00:00:00</td>\n      <td>NaN</td>\n      <td>NaN</td>\n      <td>NaN</td>\n      <td>NaN</td>\n      <td>NaN</td>\n      <td>NaN</td>\n      <td>NaN</td>\n      <td>NaN</td>\n      <td>NaN</td>\n      <td>NaN</td>\n      <td>NaN</td>\n      <td>NaN</td>\n      <td>NaN</td>\n      <td>NaN</td>\n    </tr>\n    <tr>\n      <th>freq</th>\n      <td>NaN</td>\n      <td>1</td>\n      <td>NaN</td>\n      <td>NaN</td>\n      <td>NaN</td>\n      <td>NaN</td>\n      <td>NaN</td>\n      <td>NaN</td>\n      <td>NaN</td>\n      <td>NaN</td>\n      <td>NaN</td>\n      <td>NaN</td>\n      <td>NaN</td>\n      <td>NaN</td>\n      <td>NaN</td>\n      <td>NaN</td>\n    </tr>\n    <tr>\n      <th>first</th>\n      <td>NaN</td>\n      <td>2011-01-01 00:00:00</td>\n      <td>NaN</td>\n      <td>NaN</td>\n      <td>NaN</td>\n      <td>NaN</td>\n      <td>NaN</td>\n      <td>NaN</td>\n      <td>NaN</td>\n      <td>NaN</td>\n      <td>NaN</td>\n      <td>NaN</td>\n      <td>NaN</td>\n      <td>NaN</td>\n      <td>NaN</td>\n      <td>NaN</td>\n    </tr>\n    <tr>\n      <th>last</th>\n      <td>NaN</td>\n      <td>2012-12-31 00:00:00</td>\n      <td>NaN</td>\n      <td>NaN</td>\n      <td>NaN</td>\n      <td>NaN</td>\n      <td>NaN</td>\n      <td>NaN</td>\n      <td>NaN</td>\n      <td>NaN</td>\n      <td>NaN</td>\n      <td>NaN</td>\n      <td>NaN</td>\n      <td>NaN</td>\n      <td>NaN</td>\n      <td>NaN</td>\n    </tr>\n    <tr>\n      <th>mean</th>\n      <td>366.000000</td>\n      <td>NaN</td>\n      <td>2.496580</td>\n      <td>0.500684</td>\n      <td>6.519836</td>\n      <td>0.028728</td>\n      <td>2.997264</td>\n      <td>0.683995</td>\n      <td>1.395349</td>\n      <td>0.495385</td>\n      <td>0.474354</td>\n      <td>0.627894</td>\n      <td>0.190486</td>\n      <td>848.176471</td>\n      <td>3656.172367</td>\n      <td>4504.348837</td>\n    </tr>\n    <tr>\n      <th>std</th>\n      <td>211.165812</td>\n      <td>NaN</td>\n      <td>1.110807</td>\n      <td>0.500342</td>\n      <td>3.451913</td>\n      <td>0.167155</td>\n      <td>2.004787</td>\n      <td>0.465233</td>\n      <td>0.544894</td>\n      <td>0.183051</td>\n      <td>0.162961</td>\n      <td>0.142429</td>\n      <td>0.077498</td>\n      <td>686.622488</td>\n      <td>1560.256377</td>\n      <td>1937.211452</td>\n    </tr>\n    <tr>\n      <th>min</th>\n      <td>1.000000</td>\n      <td>NaN</td>\n      <td>1.000000</td>\n      <td>0.000000</td>\n      <td>1.000000</td>\n      <td>0.000000</td>\n      <td>0.000000</td>\n      <td>0.000000</td>\n      <td>1.000000</td>\n      <td>0.059130</td>\n      <td>0.079070</td>\n      <td>0.000000</td>\n      <td>0.022392</td>\n      <td>2.000000</td>\n      <td>20.000000</td>\n      <td>22.000000</td>\n    </tr>\n    <tr>\n      <th>25%</th>\n      <td>183.500000</td>\n      <td>NaN</td>\n      <td>2.000000</td>\n      <td>0.000000</td>\n      <td>4.000000</td>\n      <td>0.000000</td>\n      <td>1.000000</td>\n      <td>0.000000</td>\n      <td>1.000000</td>\n      <td>0.337083</td>\n      <td>0.337842</td>\n      <td>0.520000</td>\n      <td>0.134950</td>\n      <td>315.500000</td>\n      <td>2497.000000</td>\n      <td>3152.000000</td>\n    </tr>\n    <tr>\n      <th>50%</th>\n      <td>366.000000</td>\n      <td>NaN</td>\n      <td>3.000000</td>\n      <td>1.000000</td>\n      <td>7.000000</td>\n      <td>0.000000</td>\n      <td>3.000000</td>\n      <td>1.000000</td>\n      <td>1.000000</td>\n      <td>0.498333</td>\n      <td>0.486733</td>\n      <td>0.626667</td>\n      <td>0.180975</td>\n      <td>713.000000</td>\n      <td>3662.000000</td>\n      <td>4548.000000</td>\n    </tr>\n    <tr>\n      <th>75%</th>\n      <td>548.500000</td>\n      <td>NaN</td>\n      <td>3.000000</td>\n      <td>1.000000</td>\n      <td>10.000000</td>\n      <td>0.000000</td>\n      <td>5.000000</td>\n      <td>1.000000</td>\n      <td>2.000000</td>\n      <td>0.655417</td>\n      <td>0.608602</td>\n      <td>0.730209</td>\n      <td>0.233214</td>\n      <td>1096.000000</td>\n      <td>4776.500000</td>\n      <td>5956.000000</td>\n    </tr>\n    <tr>\n      <th>max</th>\n      <td>731.000000</td>\n      <td>NaN</td>\n      <td>4.000000</td>\n      <td>1.000000</td>\n      <td>12.000000</td>\n      <td>1.000000</td>\n      <td>6.000000</td>\n      <td>1.000000</td>\n      <td>3.000000</td>\n      <td>0.861667</td>\n      <td>0.840896</td>\n      <td>0.972500</td>\n      <td>0.507463</td>\n      <td>3410.000000</td>\n      <td>6946.000000</td>\n      <td>8714.000000</td>\n    </tr>\n  </tbody>\n</table>\n</div>"
     },
     "execution_count": 41,
     "metadata": {},
     "output_type": "execute_result"
    }
   ],
   "source": [
    "days_df.describe(include='all')"
   ]
  },
  {
   "cell_type": "markdown",
   "source": [
    "#### Start"
   ],
   "metadata": {
    "collapsed": false
   }
  },
  {
   "cell_type": "code",
   "execution_count": 42,
   "outputs": [
    {
     "data": {
      "text/plain": "workingday\n1    500\n0    231\nName: instant, dtype: int64"
     },
     "execution_count": 42,
     "metadata": {},
     "output_type": "execute_result"
    }
   ],
   "source": [
    "# Persebaran data days_df untuk kolom workingday\n",
    "days_df.groupby(by=\"workingday\").instant.nunique().sort_values(ascending=False)"
   ],
   "metadata": {
    "collapsed": false,
    "ExecuteTime": {
     "end_time": "2023-09-21T15:53:59.582806747Z",
     "start_time": "2023-09-21T15:53:59.517885231Z"
    }
   }
  },
  {
   "cell_type": "code",
   "execution_count": 43,
   "outputs": [
    {
     "data": {
      "text/plain": "workingday\n1    11865\n0     5514\nName: instant, dtype: int64"
     },
     "execution_count": 43,
     "metadata": {},
     "output_type": "execute_result"
    }
   ],
   "source": [
    "# Persebaran data hours_day untuk kolom workingday\n",
    "hours_df.groupby(by=\"workingday\").instant.nunique().sort_values(ascending=False)"
   ],
   "metadata": {
    "collapsed": false,
    "ExecuteTime": {
     "end_time": "2023-09-21T15:54:02.779077143Z",
     "start_time": "2023-09-21T15:54:02.711924966Z"
    }
   }
  },
  {
   "cell_type": "code",
   "execution_count": 44,
   "outputs": [
    {
     "data": {
      "text/plain": "holiday\n0    710\n1     21\nName: instant, dtype: int64"
     },
     "execution_count": 44,
     "metadata": {},
     "output_type": "execute_result"
    }
   ],
   "source": [
    "days_df.groupby(by=\"holiday\").instant.nunique().sort_values(ascending=False)"
   ],
   "metadata": {
    "collapsed": false,
    "ExecuteTime": {
     "end_time": "2023-09-21T15:54:08.525798757Z",
     "start_time": "2023-09-21T15:54:08.488104332Z"
    }
   }
  },
  {
   "cell_type": "code",
   "execution_count": 45,
   "outputs": [
    {
     "data": {
      "text/plain": "holiday\n0    16879\n1      500\nName: instant, dtype: int64"
     },
     "execution_count": 45,
     "metadata": {},
     "output_type": "execute_result"
    }
   ],
   "source": [
    "hours_df.groupby(by=\"holiday\").instant.nunique().sort_values(ascending=False)"
   ],
   "metadata": {
    "collapsed": false,
    "ExecuteTime": {
     "end_time": "2023-09-21T15:54:16.486852798Z",
     "start_time": "2023-09-21T15:54:16.438238115Z"
    }
   }
  },
  {
   "cell_type": "code",
   "execution_count": 46,
   "outputs": [
    {
     "name": "stdout",
     "output_type": "stream",
     "text": [
      "2292410\n"
     ]
    }
   ],
   "source": [
    "# Menghitung total jumlah pengguna di hari kerja\n",
    "working_days_df = days_df[days_df[\"workingday\"] == 1]\n",
    "\n",
    "count_by_workingday = working_days_df[\"cnt\"].sum()\n",
    "\n",
    "print(count_by_workingday)"
   ],
   "metadata": {
    "collapsed": false,
    "ExecuteTime": {
     "end_time": "2023-09-21T15:54:21.302679535Z",
     "start_time": "2023-09-21T15:54:21.258603250Z"
    }
   }
  },
  {
   "cell_type": "code",
   "execution_count": 47,
   "outputs": [
    {
     "name": "stdout",
     "output_type": "stream",
     "text": [
      "1000269\n"
     ]
    }
   ],
   "source": [
    "# Menghitung total jumlah pengguna di hari weekend dan holiday\n",
    "weekend_days_df = days_df[days_df[\"workingday\"] == 0]\n",
    "\n",
    "count_by_weekend = weekend_days_df[\"cnt\"].sum()\n",
    "print(count_by_weekend)"
   ],
   "metadata": {
    "collapsed": false,
    "ExecuteTime": {
     "end_time": "2023-09-21T15:54:32.735755102Z",
     "start_time": "2023-09-21T15:54:32.678960403Z"
    }
   }
  },
  {
   "cell_type": "markdown",
   "source": [
    "#### Coba"
   ],
   "metadata": {
    "collapsed": false
   }
  },
  {
   "cell_type": "code",
   "execution_count": 51,
   "outputs": [
    {
     "name": "stdout",
     "output_type": "stream",
     "text": [
      "weathersit\n",
      "1    2338173\n",
      "2     795952\n",
      "3     158331\n",
      "4        223\n",
      "Name: cnt, dtype: int64\n"
     ]
    }
   ],
   "source": [
    "# Hitung jumlah pengguna berdasarkan nilai kolom\n",
    "jumlah_pengguna = hours_df.groupby(\"weathersit\")[\"cnt\"].sum()\n",
    "\n",
    "# Cetak jumlah pengguna\n",
    "print(jumlah_pengguna)\n",
    "\n",
    "# bisa dipake"
   ],
   "metadata": {
    "collapsed": false,
    "ExecuteTime": {
     "end_time": "2023-09-21T18:14:57.083989186Z",
     "start_time": "2023-09-21T18:14:57.036032671Z"
    }
   }
  },
  {
   "cell_type": "code",
   "execution_count": 53,
   "outputs": [
    {
     "name": "stdout",
     "output_type": "stream",
     "text": [
      "                cnt\n",
      "weathersit         \n",
      "1           2338173\n",
      "2            795952\n",
      "3            158331\n",
      "4               223\n"
     ]
    }
   ],
   "source": [
    "# Hitung jumlah pengguna berdasarkan nilai kolom\n",
    "jumlah_order = hours_df.pivot_table(values=\"cnt\", index=\"weathersit\", aggfunc=sum)\n",
    "\n",
    "# Cetak jumlah pengguna\n",
    "print(jumlah_order)"
   ],
   "metadata": {
    "collapsed": false,
    "ExecuteTime": {
     "end_time": "2023-09-21T18:17:15.480206596Z",
     "start_time": "2023-09-21T18:17:15.356042339Z"
    }
   }
  },
  {
   "cell_type": "code",
   "execution_count": 48,
   "outputs": [
    {
     "data": {
      "text/plain": "   instant   dteday_x  season_x  yr_x  mnth_x  holiday_x  weekday_x  \\\n0        1 2011-01-01         1     0       1          0          6   \n1        2 2011-01-02         1     0       1          0          0   \n2        3 2011-01-03         1     0       1          0          1   \n3        4 2011-01-04         1     0       1          0          2   \n4        5 2011-01-05         1     0       1          0          3   \n\n   workingday_x  weathersit_x    temp_x  ...  weekday_y  workingday_y  \\\n0             0             2  0.344167  ...          6             0   \n1             0             2  0.363478  ...          6             0   \n2             1             1  0.196364  ...          6             0   \n3             1             1  0.200000  ...          6             0   \n4             1             1  0.226957  ...          6             0   \n\n   weathersit_y  temp_y  atemp_y  hum_y windspeed_y  casual_y  registered_y  \\\n0             1    0.24   0.2879   0.81         0.0         3            13   \n1             1    0.22   0.2727   0.80         0.0         8            32   \n2             1    0.22   0.2727   0.80         0.0         5            27   \n3             1    0.24   0.2879   0.75         0.0         3            10   \n4             1    0.24   0.2879   0.75         0.0         0             1   \n\n   cnt_y  \n0     16  \n1     40  \n2     32  \n3     13  \n4      1  \n\n[5 rows x 32 columns]",
      "text/html": "<div>\n<style scoped>\n    .dataframe tbody tr th:only-of-type {\n        vertical-align: middle;\n    }\n\n    .dataframe tbody tr th {\n        vertical-align: top;\n    }\n\n    .dataframe thead th {\n        text-align: right;\n    }\n</style>\n<table border=\"1\" class=\"dataframe\">\n  <thead>\n    <tr style=\"text-align: right;\">\n      <th></th>\n      <th>instant</th>\n      <th>dteday_x</th>\n      <th>season_x</th>\n      <th>yr_x</th>\n      <th>mnth_x</th>\n      <th>holiday_x</th>\n      <th>weekday_x</th>\n      <th>workingday_x</th>\n      <th>weathersit_x</th>\n      <th>temp_x</th>\n      <th>...</th>\n      <th>weekday_y</th>\n      <th>workingday_y</th>\n      <th>weathersit_y</th>\n      <th>temp_y</th>\n      <th>atemp_y</th>\n      <th>hum_y</th>\n      <th>windspeed_y</th>\n      <th>casual_y</th>\n      <th>registered_y</th>\n      <th>cnt_y</th>\n    </tr>\n  </thead>\n  <tbody>\n    <tr>\n      <th>0</th>\n      <td>1</td>\n      <td>2011-01-01</td>\n      <td>1</td>\n      <td>0</td>\n      <td>1</td>\n      <td>0</td>\n      <td>6</td>\n      <td>0</td>\n      <td>2</td>\n      <td>0.344167</td>\n      <td>...</td>\n      <td>6</td>\n      <td>0</td>\n      <td>1</td>\n      <td>0.24</td>\n      <td>0.2879</td>\n      <td>0.81</td>\n      <td>0.0</td>\n      <td>3</td>\n      <td>13</td>\n      <td>16</td>\n    </tr>\n    <tr>\n      <th>1</th>\n      <td>2</td>\n      <td>2011-01-02</td>\n      <td>1</td>\n      <td>0</td>\n      <td>1</td>\n      <td>0</td>\n      <td>0</td>\n      <td>0</td>\n      <td>2</td>\n      <td>0.363478</td>\n      <td>...</td>\n      <td>6</td>\n      <td>0</td>\n      <td>1</td>\n      <td>0.22</td>\n      <td>0.2727</td>\n      <td>0.80</td>\n      <td>0.0</td>\n      <td>8</td>\n      <td>32</td>\n      <td>40</td>\n    </tr>\n    <tr>\n      <th>2</th>\n      <td>3</td>\n      <td>2011-01-03</td>\n      <td>1</td>\n      <td>0</td>\n      <td>1</td>\n      <td>0</td>\n      <td>1</td>\n      <td>1</td>\n      <td>1</td>\n      <td>0.196364</td>\n      <td>...</td>\n      <td>6</td>\n      <td>0</td>\n      <td>1</td>\n      <td>0.22</td>\n      <td>0.2727</td>\n      <td>0.80</td>\n      <td>0.0</td>\n      <td>5</td>\n      <td>27</td>\n      <td>32</td>\n    </tr>\n    <tr>\n      <th>3</th>\n      <td>4</td>\n      <td>2011-01-04</td>\n      <td>1</td>\n      <td>0</td>\n      <td>1</td>\n      <td>0</td>\n      <td>2</td>\n      <td>1</td>\n      <td>1</td>\n      <td>0.200000</td>\n      <td>...</td>\n      <td>6</td>\n      <td>0</td>\n      <td>1</td>\n      <td>0.24</td>\n      <td>0.2879</td>\n      <td>0.75</td>\n      <td>0.0</td>\n      <td>3</td>\n      <td>10</td>\n      <td>13</td>\n    </tr>\n    <tr>\n      <th>4</th>\n      <td>5</td>\n      <td>2011-01-05</td>\n      <td>1</td>\n      <td>0</td>\n      <td>1</td>\n      <td>0</td>\n      <td>3</td>\n      <td>1</td>\n      <td>1</td>\n      <td>0.226957</td>\n      <td>...</td>\n      <td>6</td>\n      <td>0</td>\n      <td>1</td>\n      <td>0.24</td>\n      <td>0.2879</td>\n      <td>0.75</td>\n      <td>0.0</td>\n      <td>0</td>\n      <td>1</td>\n      <td>1</td>\n    </tr>\n  </tbody>\n</table>\n<p>5 rows × 32 columns</p>\n</div>"
     },
     "execution_count": 48,
     "metadata": {},
     "output_type": "execute_result"
    }
   ],
   "source": [
    "hours_days_df = pd.merge(\n",
    "    left=days_df,\n",
    "    right=hours_df,\n",
    "    how=\"left\",\n",
    "    left_on=\"instant\",\n",
    "    right_on=\"instant\"\n",
    ")\n",
    "\n",
    "hours_days_df.head()"
   ],
   "metadata": {
    "collapsed": false,
    "ExecuteTime": {
     "end_time": "2023-09-21T17:51:45.283289671Z",
     "start_time": "2023-09-21T17:51:44.794058907Z"
    }
   }
  },
  {
   "cell_type": "code",
   "execution_count": null,
   "outputs": [],
   "source": [
    "hours_days_df.groupby(\"holiday\")"
   ],
   "metadata": {
    "collapsed": false
   }
  },
  {
   "cell_type": "code",
   "execution_count": 21,
   "outputs": [
    {
     "data": {
      "text/plain": "           instant workingday              \n           nunique        max min mean  std\nworkingday                                 \n0              231          0   0  0.0  0.0\n1              500          1   1  1.0  0.0",
      "text/html": "<div>\n<style scoped>\n    .dataframe tbody tr th:only-of-type {\n        vertical-align: middle;\n    }\n\n    .dataframe tbody tr th {\n        vertical-align: top;\n    }\n\n    .dataframe thead tr th {\n        text-align: left;\n    }\n\n    .dataframe thead tr:last-of-type th {\n        text-align: right;\n    }\n</style>\n<table border=\"1\" class=\"dataframe\">\n  <thead>\n    <tr>\n      <th></th>\n      <th>instant</th>\n      <th colspan=\"4\" halign=\"left\">workingday</th>\n    </tr>\n    <tr>\n      <th></th>\n      <th>nunique</th>\n      <th>max</th>\n      <th>min</th>\n      <th>mean</th>\n      <th>std</th>\n    </tr>\n    <tr>\n      <th>workingday</th>\n      <th></th>\n      <th></th>\n      <th></th>\n      <th></th>\n      <th></th>\n    </tr>\n  </thead>\n  <tbody>\n    <tr>\n      <th>0</th>\n      <td>231</td>\n      <td>0</td>\n      <td>0</td>\n      <td>0.0</td>\n      <td>0.0</td>\n    </tr>\n    <tr>\n      <th>1</th>\n      <td>500</td>\n      <td>1</td>\n      <td>1</td>\n      <td>1.0</td>\n      <td>0.0</td>\n    </tr>\n  </tbody>\n</table>\n</div>"
     },
     "execution_count": 21,
     "metadata": {},
     "output_type": "execute_result"
    }
   ],
   "source": [
    "days_df.groupby(by=\"workingday\").agg({\n",
    "    \"instant\": \"nunique\",\n",
    "    \"workingday\": [\"max\", \"min\", \"mean\", \"std\"]\n",
    "})\n",
    "# 1 adalah nilai untuk working days dan 0 adalah weekend dan holiday (Libur) "
   ],
   "metadata": {
    "collapsed": false,
    "ExecuteTime": {
     "end_time": "2023-09-21T15:52:53.810194986Z",
     "start_time": "2023-09-21T15:52:53.538924839Z"
    }
   }
  },
  {
   "cell_type": "code",
   "execution_count": 22,
   "outputs": [
    {
     "data": {
      "text/plain": "workingday\n0    231\n1    500\nName: instant, dtype: int64"
     },
     "execution_count": 22,
     "metadata": {},
     "output_type": "execute_result"
    }
   ],
   "source": [
    "days_df.groupby(by=\"workingday\").instant.count()"
   ],
   "metadata": {
    "collapsed": false,
    "ExecuteTime": {
     "end_time": "2023-09-21T15:52:54.160255606Z",
     "start_time": "2023-09-21T15:52:53.808592345Z"
    }
   }
  },
  {
   "cell_type": "code",
   "execution_count": 23,
   "outputs": [
    {
     "data": {
      "text/plain": "        instant workingday                        \n        nunique        max min      mean       std\nweekday                                           \n0           105          0   0  0.000000  0.000000\n1           105          1   0  0.857143  0.351605\n2           104          1   0  0.990385  0.098058\n3           104          1   0  0.990385  0.098058\n4           104          1   0  0.980769  0.138000\n5           104          1   0  0.980769  0.138000\n6           105          0   0  0.000000  0.000000",
      "text/html": "<div>\n<style scoped>\n    .dataframe tbody tr th:only-of-type {\n        vertical-align: middle;\n    }\n\n    .dataframe tbody tr th {\n        vertical-align: top;\n    }\n\n    .dataframe thead tr th {\n        text-align: left;\n    }\n\n    .dataframe thead tr:last-of-type th {\n        text-align: right;\n    }\n</style>\n<table border=\"1\" class=\"dataframe\">\n  <thead>\n    <tr>\n      <th></th>\n      <th>instant</th>\n      <th colspan=\"4\" halign=\"left\">workingday</th>\n    </tr>\n    <tr>\n      <th></th>\n      <th>nunique</th>\n      <th>max</th>\n      <th>min</th>\n      <th>mean</th>\n      <th>std</th>\n    </tr>\n    <tr>\n      <th>weekday</th>\n      <th></th>\n      <th></th>\n      <th></th>\n      <th></th>\n      <th></th>\n    </tr>\n  </thead>\n  <tbody>\n    <tr>\n      <th>0</th>\n      <td>105</td>\n      <td>0</td>\n      <td>0</td>\n      <td>0.000000</td>\n      <td>0.000000</td>\n    </tr>\n    <tr>\n      <th>1</th>\n      <td>105</td>\n      <td>1</td>\n      <td>0</td>\n      <td>0.857143</td>\n      <td>0.351605</td>\n    </tr>\n    <tr>\n      <th>2</th>\n      <td>104</td>\n      <td>1</td>\n      <td>0</td>\n      <td>0.990385</td>\n      <td>0.098058</td>\n    </tr>\n    <tr>\n      <th>3</th>\n      <td>104</td>\n      <td>1</td>\n      <td>0</td>\n      <td>0.990385</td>\n      <td>0.098058</td>\n    </tr>\n    <tr>\n      <th>4</th>\n      <td>104</td>\n      <td>1</td>\n      <td>0</td>\n      <td>0.980769</td>\n      <td>0.138000</td>\n    </tr>\n    <tr>\n      <th>5</th>\n      <td>104</td>\n      <td>1</td>\n      <td>0</td>\n      <td>0.980769</td>\n      <td>0.138000</td>\n    </tr>\n    <tr>\n      <th>6</th>\n      <td>105</td>\n      <td>0</td>\n      <td>0</td>\n      <td>0.000000</td>\n      <td>0.000000</td>\n    </tr>\n  </tbody>\n</table>\n</div>"
     },
     "execution_count": 23,
     "metadata": {},
     "output_type": "execute_result"
    }
   ],
   "source": [
    "days_df.groupby(by=\"weekday\").agg({\n",
    "    \"instant\": \"nunique\",\n",
    "    \"workingday\": [\"max\", \"min\", \"mean\", \"std\"]\n",
    "})"
   ],
   "metadata": {
    "collapsed": false,
    "ExecuteTime": {
     "end_time": "2023-09-21T15:52:54.244571646Z",
     "start_time": "2023-09-21T15:52:53.993056710Z"
    }
   }
  },
  {
   "cell_type": "code",
   "execution_count": 24,
   "outputs": [
    {
     "data": {
      "text/plain": "        instant workingday                        \n        nunique        max min      mean       std\nholiday                                           \n0           710          1   0  0.704225  0.456712\n1            21          0   0  0.000000  0.000000",
      "text/html": "<div>\n<style scoped>\n    .dataframe tbody tr th:only-of-type {\n        vertical-align: middle;\n    }\n\n    .dataframe tbody tr th {\n        vertical-align: top;\n    }\n\n    .dataframe thead tr th {\n        text-align: left;\n    }\n\n    .dataframe thead tr:last-of-type th {\n        text-align: right;\n    }\n</style>\n<table border=\"1\" class=\"dataframe\">\n  <thead>\n    <tr>\n      <th></th>\n      <th>instant</th>\n      <th colspan=\"4\" halign=\"left\">workingday</th>\n    </tr>\n    <tr>\n      <th></th>\n      <th>nunique</th>\n      <th>max</th>\n      <th>min</th>\n      <th>mean</th>\n      <th>std</th>\n    </tr>\n    <tr>\n      <th>holiday</th>\n      <th></th>\n      <th></th>\n      <th></th>\n      <th></th>\n      <th></th>\n    </tr>\n  </thead>\n  <tbody>\n    <tr>\n      <th>0</th>\n      <td>710</td>\n      <td>1</td>\n      <td>0</td>\n      <td>0.704225</td>\n      <td>0.456712</td>\n    </tr>\n    <tr>\n      <th>1</th>\n      <td>21</td>\n      <td>0</td>\n      <td>0</td>\n      <td>0.000000</td>\n      <td>0.000000</td>\n    </tr>\n  </tbody>\n</table>\n</div>"
     },
     "execution_count": 24,
     "metadata": {},
     "output_type": "execute_result"
    }
   ],
   "source": [
    "days_df.groupby(by=\"holiday\").agg({\n",
    "    \"instant\": \"nunique\",\n",
    "    \"workingday\": [\"max\", \"min\", \"mean\", \"std\"]\n",
    "})"
   ],
   "metadata": {
    "collapsed": false,
    "ExecuteTime": {
     "end_time": "2023-09-21T15:52:54.660445966Z",
     "start_time": "2023-09-21T15:52:54.144706324Z"
    }
   }
  },
  {
   "cell_type": "code",
   "execution_count": 25,
   "outputs": [
    {
     "data": {
      "text/plain": "workingday\n0    223\n1    487\nName: cnt, dtype: int64"
     },
     "execution_count": 25,
     "metadata": {},
     "output_type": "execute_result"
    }
   ],
   "source": [
    "days_df.groupby(by=\"workingday\").cnt.nunique().sort_values()"
   ],
   "metadata": {
    "collapsed": false,
    "ExecuteTime": {
     "end_time": "2023-09-21T15:52:54.705242604Z",
     "start_time": "2023-09-21T15:52:54.344711997Z"
    }
   }
  },
  {
   "cell_type": "code",
   "execution_count": 26,
   "outputs": [
    {
     "name": "stdout",
     "output_type": "stream",
     "text": [
      "2292410\n"
     ]
    }
   ],
   "source": [
    "working_days_df = days_df[days_df[\"workingday\"] == 1]\n",
    "\n",
    "count_by_workingday = working_days_df[\"cnt\"].sum()\n",
    "\n",
    "print(count_by_workingday)"
   ],
   "metadata": {
    "collapsed": false,
    "ExecuteTime": {
     "end_time": "2023-09-21T15:52:54.915374817Z",
     "start_time": "2023-09-21T15:52:54.544679677Z"
    }
   }
  },
  {
   "cell_type": "code",
   "execution_count": 27,
   "outputs": [
    {
     "name": "stdout",
     "output_type": "stream",
     "text": [
      "1000269\n"
     ]
    }
   ],
   "source": [
    "working_days_df = days_df[days_df[\"workingday\"] == 0]\n",
    "\n",
    "count_by_workingday = working_days_df[\"cnt\"].sum()\n",
    "\n",
    "print(count_by_workingday)"
   ],
   "metadata": {
    "collapsed": false,
    "ExecuteTime": {
     "end_time": "2023-09-21T15:52:54.948925245Z",
     "start_time": "2023-09-21T15:52:54.757297937Z"
    }
   }
  },
  {
   "cell_type": "code",
   "execution_count": 28,
   "outputs": [],
   "source": [
    "count_1 = working_days_df"
   ],
   "metadata": {
    "collapsed": false,
    "ExecuteTime": {
     "end_time": "2023-09-21T15:52:55.271861842Z",
     "start_time": "2023-09-21T15:52:54.863030049Z"
    }
   }
  },
  {
   "cell_type": "markdown",
   "metadata": {},
   "source": [
    "### Explore Data hours_df"
   ]
  },
  {
   "attachments": {},
   "cell_type": "markdown",
   "metadata": {},
   "source": [
    "## Visualization & Explanatory Analysis"
   ]
  },
  {
   "attachments": {},
   "cell_type": "markdown",
   "metadata": {},
   "source": [
    "### Pertanyaan 1: "
   ]
  },
  {
   "cell_type": "code",
   "execution_count": 28,
   "metadata": {
    "ExecuteTime": {
     "end_time": "2023-09-21T15:52:55.291456101Z",
     "start_time": "2023-09-21T15:52:54.993513200Z"
    }
   },
   "outputs": [],
   "source": []
  },
  {
   "attachments": {},
   "cell_type": "markdown",
   "metadata": {},
   "source": [
    "### Pertanyaan 2: "
   ]
  },
  {
   "cell_type": "code",
   "execution_count": 28,
   "metadata": {
    "ExecuteTime": {
     "end_time": "2023-09-21T15:52:55.292196406Z",
     "start_time": "2023-09-21T15:52:54.994047748Z"
    }
   },
   "outputs": [],
   "source": []
  },
  {
   "attachments": {},
   "cell_type": "markdown",
   "metadata": {},
   "source": [
    "## Conclusion"
   ]
  },
  {
   "attachments": {},
   "cell_type": "markdown",
   "metadata": {},
   "source": [
    "- Conclution pertanyaan 1\n",
    "- conclution pertanyaan 2"
   ]
  },
  {
   "cell_type": "markdown",
   "metadata": {},
   "source": []
  }
 ],
 "metadata": {
  "kernelspec": {
   "display_name": "Python 3",
   "language": "python",
   "name": "python3"
  },
  "language_info": {
   "codemirror_mode": {
    "name": "ipython",
    "version": 3
   },
   "file_extension": ".py",
   "mimetype": "text/x-python",
   "name": "python",
   "nbconvert_exporter": "python",
   "pygments_lexer": "ipython3",
   "version": "3.11.4"
  },
  "orig_nbformat": 4,
  "vscode": {
   "interpreter": {
    "hash": "972b3bf27e332e87b5379f2791f6ef9dfc79c71018c370b0d7423235e20fe4d7"
   }
  }
 },
 "nbformat": 4,
 "nbformat_minor": 2
}
